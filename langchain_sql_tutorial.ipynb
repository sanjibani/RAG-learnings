{
  "nbformat": 4,
  "nbformat_minor": 0,
  "metadata": {
    "colab": {
      "provenance": [],
      "authorship_tag": "ABX9TyNtnESmYmCFo3NxTb5IpzYT",
      "include_colab_link": true
    },
    "kernelspec": {
      "name": "python3",
      "display_name": "Python 3"
    },
    "language_info": {
      "name": "python"
    }
  },
  "cells": [
    {
      "cell_type": "markdown",
      "metadata": {
        "id": "view-in-github",
        "colab_type": "text"
      },
      "source": [
        "<a href=\"https://colab.research.google.com/github/sanjibani/RAG-learnings/blob/main/langchain_sql_tutorial.ipynb\" target=\"_parent\"><img src=\"https://colab.research.google.com/assets/colab-badge.svg\" alt=\"Open In Colab\"/></a>"
      ]
    },
    {
      "cell_type": "code",
      "execution_count": 3,
      "metadata": {
        "id": "awxaBVbxX4mJ",
        "colab": {
          "base_uri": "https://localhost:8080/"
        },
        "outputId": "bdef331f-f4fa-4dea-a498-a725fad7c6bb"
      },
      "outputs": [
        {
          "output_type": "stream",
          "name": "stdout",
          "text": [
            "unzip:  cannot find or open chinook.zip, chinook.zip.zip or chinook.zip.ZIP.\n"
          ]
        }
      ],
      "source": [
        "!unzip -q chinook.zip -d /content/extracted/"
      ]
    },
    {
      "cell_type": "code",
      "source": [
        "%%capture --no-stderr\n",
        "%pip install --upgrade --quiet langchain-community langgraph"
      ],
      "metadata": {
        "id": "mIvx-UOCYej8"
      },
      "execution_count": 4,
      "outputs": []
    },
    {
      "cell_type": "code",
      "source": [
        "# Comment out the below to opt-out of using LangSmith in this notebook. Not required.\n",
        "import os\n",
        "import getpass\n",
        "if not os.environ.get(\"LANGSMITH_API_KEY\"):\n",
        "    os.environ[\"LANGSMITH_API_KEY\"] = getpass.getpass()\n",
        "    os.environ[\"LANGSMITH_TRACING\"] = \"true\""
      ],
      "metadata": {
        "colab": {
          "base_uri": "https://localhost:8080/"
        },
        "id": "NJbI5dkKa0nU",
        "outputId": "3186809d-f79d-40cf-d2a6-60f3dee83b39"
      },
      "execution_count": 5,
      "outputs": [
        {
          "name": "stdout",
          "output_type": "stream",
          "text": [
            "··········\n"
          ]
        }
      ]
    },
    {
      "cell_type": "code",
      "source": [
        "import os\n",
        "import sqlite3\n",
        "\n",
        "# Check file size\n",
        "db_file = '/content/chinook_3.db'\n",
        "file_size = os.path.getsize(db_file)\n",
        "print(f\"Chinook.db file size: {file_size} bytes\")\n",
        "\n",
        "if file_size == 0:\n",
        "    print(\"ERROR: File is 0 bytes - extraction failed!\")\n",
        "else:\n",
        "    print(\"File has data - checking if it's a valid SQLite database...\")\n",
        "\n"
      ],
      "metadata": {
        "colab": {
          "base_uri": "https://localhost:8080/"
        },
        "id": "Q0803KAbbu6c",
        "outputId": "6bd7b88d-f387-4047-848b-126a3240c598"
      },
      "execution_count": 8,
      "outputs": [
        {
          "output_type": "stream",
          "name": "stdout",
          "text": [
            "Chinook.db file size: 884736 bytes\n",
            "File has data - checking if it's a valid SQLite database...\n"
          ]
        }
      ]
    },
    {
      "cell_type": "code",
      "source": [
        "import sqlite3\n",
        "\n",
        "try:\n",
        "    # Test direct connection\n",
        "    conn = sqlite3.connect('/content/chinook_3.db')\n",
        "    cursor = conn.cursor()\n",
        "\n",
        "    # Try to query the database\n",
        "    cursor.execute(\"SELECT name FROM sqlite_master WHERE type='table';\")\n",
        "    tables = cursor.fetchall()\n",
        "    print(f\"SUCCESS! Tables found: {tables}\")\n",
        "\n",
        "    # Test a simple query\n",
        "    cursor.execute(\"SELECT COUNT(*) FROM sqlite_master;\")\n",
        "    count = cursor.fetchone()[0]\n",
        "    print(f\"Number of database objects: {count}\")\n",
        "\n",
        "    conn.close()\n",
        "    print(\"Direct sqlite3 connection works!\")\n",
        "\n",
        "except Exception as e:\n",
        "    print(f\"Direct sqlite3 connection failed: {e}\")\n"
      ],
      "metadata": {
        "colab": {
          "base_uri": "https://localhost:8080/"
        },
        "id": "WcCGMqsJgJbF",
        "outputId": "33214c17-9f27-48fe-ce57-8bbcccd799d8"
      },
      "execution_count": 9,
      "outputs": [
        {
          "output_type": "stream",
          "name": "stdout",
          "text": [
            "SUCCESS! Tables found: [('albums',), ('sqlite_sequence',), ('artists',), ('customers',), ('employees',), ('genres',), ('invoices',), ('invoice_items',), ('media_types',), ('playlists',), ('playlist_track',), ('tracks',), ('sqlite_stat1',)]\n",
            "Number of database objects: 24\n",
            "Direct sqlite3 connection works!\n"
          ]
        }
      ]
    },
    {
      "cell_type": "code",
      "source": [
        "import os\n",
        "from langchain_community.utilities import SQLDatabase\n",
        "\n",
        "db_path = os.path.abspath(\"/content/chinook_3.db\")  # absolute path on Linux\n",
        "print(\"Using:\", db_path)\n",
        "\n",
        "db = SQLDatabase.from_uri(f\"sqlite:///{db_path}\")  # SQLAlchemy absolute SQLite URL\n",
        "print(db.dialect)\n",
        "print(sorted(db.get_usable_table_names()))\n",
        "\n",
        "# Sanity checks\n",
        "print(db.run(\"SELECT name FROM sqlite_master WHERE type='table';\"))\n",
        "print(db.run(\"SELECT * FROM artists LIMIT 10;\"))  # table names in Chinook are typically lowercase\n"
      ],
      "metadata": {
        "colab": {
          "base_uri": "https://localhost:8080/"
        },
        "id": "xe-vNPJ5mNBZ",
        "outputId": "315d9ff4-327e-4d04-ca83-99757bcdd85b"
      },
      "execution_count": 10,
      "outputs": [
        {
          "output_type": "stream",
          "name": "stdout",
          "text": [
            "Using: /content/chinook_3.db\n",
            "sqlite\n",
            "['albums', 'artists', 'customers', 'employees', 'genres', 'invoice_items', 'invoices', 'media_types', 'playlist_track', 'playlists', 'tracks']\n",
            "[('albums',), ('sqlite_sequence',), ('artists',), ('customers',), ('employees',), ('genres',), ('invoices',), ('invoice_items',), ('media_types',), ('playlists',), ('playlist_track',), ('tracks',), ('sqlite_stat1',)]\n",
            "[(1, 'AC/DC'), (2, 'Accept'), (3, 'Aerosmith'), (4, 'Alanis Morissette'), (5, 'Alice In Chains'), (6, 'Antônio Carlos Jobim'), (7, 'Apocalyptica'), (8, 'Audioslave'), (9, 'BackBeat'), (10, 'Billy Cobham')]\n"
          ]
        }
      ]
    },
    {
      "cell_type": "code",
      "source": [
        "from typing_extensions import TypedDict\n",
        "\n",
        "class State(TypedDict):\n",
        "    question: str\n",
        "    query: str\n",
        "    result: str\n",
        "    answer: str"
      ],
      "metadata": {
        "id": "Qj9V_0xQnYsg"
      },
      "execution_count": 11,
      "outputs": []
    },
    {
      "cell_type": "code",
      "source": [
        "\n",
        "pip install -U langchain-community\n"
      ],
      "metadata": {
        "colab": {
          "base_uri": "https://localhost:8080/"
        },
        "id": "YutcpS2Rq0dK",
        "outputId": "d04d1747-a4b2-4045-844d-cd1d93f3e3c1"
      },
      "execution_count": 34,
      "outputs": [
        {
          "output_type": "stream",
          "name": "stdout",
          "text": [
            "Requirement already satisfied: langchain-community in /usr/local/lib/python3.12/dist-packages (0.3.29)\n",
            "Requirement already satisfied: langchain-core<2.0.0,>=0.3.75 in /usr/local/lib/python3.12/dist-packages (from langchain-community) (0.3.75)\n",
            "Requirement already satisfied: langchain<2.0.0,>=0.3.27 in /usr/local/lib/python3.12/dist-packages (from langchain-community) (0.3.27)\n",
            "Requirement already satisfied: SQLAlchemy<3,>=1.4 in /usr/local/lib/python3.12/dist-packages (from langchain-community) (2.0.43)\n",
            "Requirement already satisfied: requests<3,>=2.32.5 in /usr/local/lib/python3.12/dist-packages (from langchain-community) (2.32.5)\n",
            "Requirement already satisfied: PyYAML>=5.3 in /usr/local/lib/python3.12/dist-packages (from langchain-community) (6.0.2)\n",
            "Requirement already satisfied: aiohttp<4.0.0,>=3.8.3 in /usr/local/lib/python3.12/dist-packages (from langchain-community) (3.12.15)\n",
            "Requirement already satisfied: tenacity!=8.4.0,<10,>=8.1.0 in /usr/local/lib/python3.12/dist-packages (from langchain-community) (8.5.0)\n",
            "Requirement already satisfied: dataclasses-json<0.7,>=0.6.7 in /usr/local/lib/python3.12/dist-packages (from langchain-community) (0.6.7)\n",
            "Requirement already satisfied: pydantic-settings<3.0.0,>=2.10.1 in /usr/local/lib/python3.12/dist-packages (from langchain-community) (2.10.1)\n",
            "Requirement already satisfied: langsmith>=0.1.125 in /usr/local/lib/python3.12/dist-packages (from langchain-community) (0.4.16)\n",
            "Requirement already satisfied: httpx-sse<1.0.0,>=0.4.0 in /usr/local/lib/python3.12/dist-packages (from langchain-community) (0.4.1)\n",
            "Requirement already satisfied: numpy>=1.26.2 in /usr/local/lib/python3.12/dist-packages (from langchain-community) (2.0.2)\n",
            "Requirement already satisfied: aiohappyeyeballs>=2.5.0 in /usr/local/lib/python3.12/dist-packages (from aiohttp<4.0.0,>=3.8.3->langchain-community) (2.6.1)\n",
            "Requirement already satisfied: aiosignal>=1.4.0 in /usr/local/lib/python3.12/dist-packages (from aiohttp<4.0.0,>=3.8.3->langchain-community) (1.4.0)\n",
            "Requirement already satisfied: attrs>=17.3.0 in /usr/local/lib/python3.12/dist-packages (from aiohttp<4.0.0,>=3.8.3->langchain-community) (25.3.0)\n",
            "Requirement already satisfied: frozenlist>=1.1.1 in /usr/local/lib/python3.12/dist-packages (from aiohttp<4.0.0,>=3.8.3->langchain-community) (1.7.0)\n",
            "Requirement already satisfied: multidict<7.0,>=4.5 in /usr/local/lib/python3.12/dist-packages (from aiohttp<4.0.0,>=3.8.3->langchain-community) (6.6.4)\n",
            "Requirement already satisfied: propcache>=0.2.0 in /usr/local/lib/python3.12/dist-packages (from aiohttp<4.0.0,>=3.8.3->langchain-community) (0.3.2)\n",
            "Requirement already satisfied: yarl<2.0,>=1.17.0 in /usr/local/lib/python3.12/dist-packages (from aiohttp<4.0.0,>=3.8.3->langchain-community) (1.20.1)\n",
            "Requirement already satisfied: marshmallow<4.0.0,>=3.18.0 in /usr/local/lib/python3.12/dist-packages (from dataclasses-json<0.7,>=0.6.7->langchain-community) (3.26.1)\n",
            "Requirement already satisfied: typing-inspect<1,>=0.4.0 in /usr/local/lib/python3.12/dist-packages (from dataclasses-json<0.7,>=0.6.7->langchain-community) (0.9.0)\n",
            "Requirement already satisfied: langchain-text-splitters<1.0.0,>=0.3.9 in /usr/local/lib/python3.12/dist-packages (from langchain<2.0.0,>=0.3.27->langchain-community) (0.3.9)\n",
            "Requirement already satisfied: pydantic<3.0.0,>=2.7.4 in /usr/local/lib/python3.12/dist-packages (from langchain<2.0.0,>=0.3.27->langchain-community) (2.11.7)\n",
            "Requirement already satisfied: jsonpatch<2.0,>=1.33 in /usr/local/lib/python3.12/dist-packages (from langchain-core<2.0.0,>=0.3.75->langchain-community) (1.33)\n",
            "Requirement already satisfied: typing-extensions>=4.7 in /usr/local/lib/python3.12/dist-packages (from langchain-core<2.0.0,>=0.3.75->langchain-community) (4.15.0)\n",
            "Requirement already satisfied: packaging>=23.2 in /usr/local/lib/python3.12/dist-packages (from langchain-core<2.0.0,>=0.3.75->langchain-community) (25.0)\n",
            "Requirement already satisfied: httpx<1,>=0.23.0 in /usr/local/lib/python3.12/dist-packages (from langsmith>=0.1.125->langchain-community) (0.28.1)\n",
            "Requirement already satisfied: orjson>=3.9.14 in /usr/local/lib/python3.12/dist-packages (from langsmith>=0.1.125->langchain-community) (3.11.2)\n",
            "Requirement already satisfied: requests-toolbelt>=1.0.0 in /usr/local/lib/python3.12/dist-packages (from langsmith>=0.1.125->langchain-community) (1.0.0)\n",
            "Requirement already satisfied: zstandard>=0.23.0 in /usr/local/lib/python3.12/dist-packages (from langsmith>=0.1.125->langchain-community) (0.24.0)\n",
            "Requirement already satisfied: python-dotenv>=0.21.0 in /usr/local/lib/python3.12/dist-packages (from pydantic-settings<3.0.0,>=2.10.1->langchain-community) (1.1.1)\n",
            "Requirement already satisfied: typing-inspection>=0.4.0 in /usr/local/lib/python3.12/dist-packages (from pydantic-settings<3.0.0,>=2.10.1->langchain-community) (0.4.1)\n",
            "Requirement already satisfied: charset_normalizer<4,>=2 in /usr/local/lib/python3.12/dist-packages (from requests<3,>=2.32.5->langchain-community) (3.4.3)\n",
            "Requirement already satisfied: idna<4,>=2.5 in /usr/local/lib/python3.12/dist-packages (from requests<3,>=2.32.5->langchain-community) (3.10)\n",
            "Requirement already satisfied: urllib3<3,>=1.21.1 in /usr/local/lib/python3.12/dist-packages (from requests<3,>=2.32.5->langchain-community) (2.5.0)\n",
            "Requirement already satisfied: certifi>=2017.4.17 in /usr/local/lib/python3.12/dist-packages (from requests<3,>=2.32.5->langchain-community) (2025.8.3)\n",
            "Requirement already satisfied: greenlet>=1 in /usr/local/lib/python3.12/dist-packages (from SQLAlchemy<3,>=1.4->langchain-community) (3.2.4)\n",
            "Requirement already satisfied: anyio in /usr/local/lib/python3.12/dist-packages (from httpx<1,>=0.23.0->langsmith>=0.1.125->langchain-community) (4.10.0)\n",
            "Requirement already satisfied: httpcore==1.* in /usr/local/lib/python3.12/dist-packages (from httpx<1,>=0.23.0->langsmith>=0.1.125->langchain-community) (1.0.9)\n",
            "Requirement already satisfied: h11>=0.16 in /usr/local/lib/python3.12/dist-packages (from httpcore==1.*->httpx<1,>=0.23.0->langsmith>=0.1.125->langchain-community) (0.16.0)\n",
            "Requirement already satisfied: jsonpointer>=1.9 in /usr/local/lib/python3.12/dist-packages (from jsonpatch<2.0,>=1.33->langchain-core<2.0.0,>=0.3.75->langchain-community) (3.0.0)\n",
            "Requirement already satisfied: annotated-types>=0.6.0 in /usr/local/lib/python3.12/dist-packages (from pydantic<3.0.0,>=2.7.4->langchain<2.0.0,>=0.3.27->langchain-community) (0.7.0)\n",
            "Requirement already satisfied: pydantic-core==2.33.2 in /usr/local/lib/python3.12/dist-packages (from pydantic<3.0.0,>=2.7.4->langchain<2.0.0,>=0.3.27->langchain-community) (2.33.2)\n",
            "Requirement already satisfied: mypy-extensions>=0.3.0 in /usr/local/lib/python3.12/dist-packages (from typing-inspect<1,>=0.4.0->dataclasses-json<0.7,>=0.6.7->langchain-community) (1.1.0)\n",
            "Requirement already satisfied: sniffio>=1.1 in /usr/local/lib/python3.12/dist-packages (from anyio->httpx<1,>=0.23.0->langsmith>=0.1.125->langchain-community) (1.3.1)\n"
          ]
        }
      ]
    },
    {
      "cell_type": "code",
      "source": [
        "import getpass\n",
        "import os\n",
        "\n",
        "os.environ[\"ANTHROPIC_API_KEY\"] = getpass.getpass(\"Enter API key for Anthropic: \")\n",
        "\n",
        "from langchain.chat_models import init_chat_model\n",
        "\n",
        "llm = init_chat_model(\"claude-3-5-sonnet-latest\", model_provider=\"anthropic\")"
      ],
      "metadata": {
        "colab": {
          "base_uri": "https://localhost:8080/"
        },
        "id": "jAdKxAgZq1Sr",
        "outputId": "d087358b-15c1-4e57-ad6f-97de2c191735"
      },
      "execution_count": 25,
      "outputs": [
        {
          "name": "stdout",
          "output_type": "stream",
          "text": [
            "Enter API key for Anthropic: ··········\n"
          ]
        }
      ]
    },
    {
      "cell_type": "code",
      "source": [
        "from langchain_core.prompts import ChatPromptTemplate\n",
        "\n",
        "system_message = \"\"\"\n",
        "Given an input question create a syntactically correct {dialect} query to run\n",
        "to help find the answer. Unless the user specifies in his question to obtain\n",
        "a specific number of examples they wish to obtain, always limit the query to\n",
        "atmost {top_k} results. You an order the results by relevant  column to return\n",
        "most interesting examples in the database\n",
        "\n",
        "Never queryfor all the columns from a specific table , only ask for the few relevant columns\n",
        "given the question.\n",
        "\n",
        "Pay attention to use only the column names you can see in the tables below.\n",
        "Be careful to not query for columns that do not exist. Also, pay attention to which column is in which table.\n",
        "\n",
        "only use the following tables:\n",
        "{table_info}\n",
        "\"\"\"\n",
        "\n",
        "user_input = \"Questions: {input}\"\n",
        "\n",
        "query_prompt_template = ChatPromptTemplate.from_messages(\n",
        "    [\n",
        "        (\"system\", system_message),\n",
        "        (\"user\", user_input),\n",
        "    ]\n",
        ")\n",
        "\n",
        "for message in query_prompt_template.messages:\n",
        "    message.pretty_print()"
      ],
      "metadata": {
        "id": "oD_aIlEkq5IJ",
        "colab": {
          "base_uri": "https://localhost:8080/"
        },
        "outputId": "9fb18574-262a-4172-a6c6-387194628e17"
      },
      "execution_count": 26,
      "outputs": [
        {
          "output_type": "stream",
          "name": "stdout",
          "text": [
            "================================\u001b[1m System Message \u001b[0m================================\n",
            "\n",
            "\n",
            "Given an input question create a syntactically correct \u001b[33;1m\u001b[1;3m{dialect}\u001b[0m query to run\n",
            "to help find the answer. Unless the user specifies in his question to obtain\n",
            "a specific number of examples they wish to obtain, always limit the query to\n",
            "atmost \u001b[33;1m\u001b[1;3m{top_k}\u001b[0m results. You an order the results by relevant  column to return\n",
            "most interesting examples in the database\n",
            "\n",
            "Never queryfor all the columns from a specific table , only ask for the few relevant columns\n",
            "given the question.\n",
            "\n",
            "Pay attention to use only the column names you can see in the tables below.\n",
            "Be careful to not query for columns that do not exist. Also, pay attention to which column is in which table.\n",
            "\n",
            "only use the following tables:\n",
            "\u001b[33;1m\u001b[1;3m{table_info}\u001b[0m\n",
            "\n",
            "================================\u001b[1m Human Message \u001b[0m=================================\n",
            "\n",
            "Questions: \u001b[33;1m\u001b[1;3m{input}\u001b[0m\n"
          ]
        }
      ]
    },
    {
      "cell_type": "code",
      "source": [
        "from typing_extensions import Annotated\n",
        "\n",
        "class QueryOutput():\n",
        "  \"\"\" Generated SQL Query.\"\"\"\n",
        "\n",
        "  query: Annotated[str, ... , \"The generated SQL query\"]\n",
        "\n",
        "\n",
        "def write_query(state: State):\n",
        "  \"\"\"Generate SQL query to fetch information.\"\"\"\n",
        "  prompt = query_prompt_template.invoke(\n",
        "      {\n",
        "          \"input\": state[\"question\"],\n",
        "          \"dialect\": db.dialect,\n",
        "          \"table_info\": db.get_table_info(),\n",
        "          \"top_k\": 10,\n",
        "      }\n",
        "  )\n",
        "  print(prompt.pretty_print())\n",
        "  structured_llm = llm.with_structured_output(QueryOutput)\n",
        "  result = structured_llm.invoke(prompt)\n",
        "  print(\"LLM Result:\", result) # This line is already here, keep it.\n",
        "  print(\"Type of LLM Result:\", type(result)) # Add this line\n",
        "  print(\"Keys in LLM Result:\", result.keys() if hasattr(result, 'keys') else \"Result does not have keys()\") # Add this line\n",
        "\n",
        "  return {\"query\": result[\"query\"]}"
      ],
      "metadata": {
        "id": "Eun36arLmCK3"
      },
      "execution_count": 56,
      "outputs": []
    },
    {
      "cell_type": "code",
      "source": [
        "write_query({\"question\": \"How many artists are there?\"})"
      ],
      "metadata": {
        "colab": {
          "base_uri": "https://localhost:8080/"
        },
        "id": "R34WSKDN9pBn",
        "outputId": "1d137fca-68d8-4542-edfc-250030a86fbd"
      },
      "execution_count": 29,
      "outputs": [
        {
          "output_type": "execute_result",
          "data": {
            "text/plain": [
              "{'query': 'SELECT COUNT(ArtistId) as artist_count FROM artists;'}"
            ]
          },
          "metadata": {},
          "execution_count": 29
        }
      ]
    },
    {
      "cell_type": "code",
      "source": [
        "#execute query\n",
        "from langchain_community.tools.sql_database.tool import QuerySQLDataBaseTool\n",
        "\n",
        "def execute_query(state:State):\n",
        "  \"\"\"Execure the sql query.\"\"\"\n",
        "  execute_tool_query = QuerySQLDataBaseTool(db=db)\n",
        "  return { \"result\":execute_tool_query.invoke(state[\"query\"])}\n",
        "\n"
      ],
      "metadata": {
        "id": "00GJCGIbCXJj"
      },
      "execution_count": 35,
      "outputs": []
    },
    {
      "cell_type": "code",
      "source": [
        "execute_query({\"query\": \"SELECT COUNT(EmployeeId) AS EmployeeCount FROM Employees;\"})"
      ],
      "metadata": {
        "colab": {
          "base_uri": "https://localhost:8080/"
        },
        "id": "rQgjomE_H8De",
        "outputId": "77a6b78e-e193-4f8c-a4be-30fbf301dac1"
      },
      "execution_count": 38,
      "outputs": [
        {
          "output_type": "execute_result",
          "data": {
            "text/plain": [
              "{'result': '[(8,)]'}"
            ]
          },
          "metadata": {},
          "execution_count": 38
        }
      ]
    },
    {
      "cell_type": "code",
      "source": [
        "def generate_answer(state: State):\n",
        "  \"\"\" answer question using  retrieved information as context \"\"\"\n",
        "  prompt  = (\n",
        "      \"given the following user question , corresponding sql query\"\n",
        "      \"and the sql response , answer the following user questions. \\n\\n\"\n",
        "      f\"Question : {state['question']} \\n\"\n",
        "      f\"Query : {state['query']} \\n\"\n",
        "      f\"Result : {state['result']} \\n\"\n",
        "  )\n",
        "\n",
        "  return {\"answer\": llm.invoke(prompt).content}"
      ],
      "metadata": {
        "id": "nWpteX3ULDIL"
      },
      "execution_count": 40,
      "outputs": []
    },
    {
      "cell_type": "code",
      "source": [
        "# orchestrating lang graphnow\n",
        "\n",
        "from langgraph.graph import START , END , StateGraph\n",
        "\n",
        "graph_builder = StateGraph(State).add_sequence(\n",
        "    [write_query , execute_query ,  generate_answer]\n",
        ")\n",
        "graph_builder.add_edge(START , \"write_query\")\n",
        "\n",
        "graph = graph_builder.compile();"
      ],
      "metadata": {
        "id": "qZDyin59TlHF"
      },
      "execution_count": 43,
      "outputs": []
    },
    {
      "cell_type": "code",
      "source": [
        "from IPython.display import Image, display\n",
        "\n",
        "display(Image(graph.get_graph().draw_mermaid_png()))"
      ],
      "metadata": {
        "colab": {
          "base_uri": "https://localhost:8080/",
          "height": 449
        },
        "id": "hDcbnvBHnsRu",
        "outputId": "aadea145-a1ae-4452-9951-aebdd941c4de"
      },
      "execution_count": 45,
      "outputs": [
        {
          "output_type": "display_data",
          "data": {
            "image/png": "[encoded data removed]",
            "text/plain": [
              "<IPython.core.display.Image object>"
            ]
          },
          "metadata": {}
        }
      ]
    },
    {
      "cell_type": "code",
      "source": [
        "for step in graph.stream(\n",
        "    {\"question\": \"which ocmposer made the most money\"} , stream_mode = \"updates\"\n",
        "):\n",
        "  print(step)\n"
      ],
      "metadata": {
        "colab": {
          "base_uri": "https://localhost:8080/"
        },
        "id": "brFgSWlLns7s",
        "outputId": "1f296c0c-468e-45bd-8879-f04cc1fb2831"
      },
      "execution_count": 48,
      "outputs": [
        {
          "output_type": "stream",
          "name": "stdout",
          "text": [
            "{'write_query': {'query': 'SELECT t.Composer, \\n       SUM(ii.UnitPrice * ii.Quantity) as TotalRevenue\\nFROM tracks t\\nJOIN invoice_items ii ON t.TrackId = ii.TrackId\\nWHERE t.Composer IS NOT NULL\\nGROUP BY t.Composer\\nORDER BY TotalRevenue DESC\\nLIMIT 10;'}}\n",
            "{'execute_query': {'result': \"[('Steve Harris', 57.42000000000003), ('U2', 32.66999999999998), ('Billy Corgan', 22.769999999999992), ('Titãs', 21.779999999999994), ('Bill Berry-Peter Buck-Mike Mills-Michael Stipe', 21.779999999999994), ('Herbert Vianna', 20.789999999999996), ('J.C. Fogerty', 18.81), ('Billie Joe Armstrong -Words Green Day -Music', 17.82), ('R.E.M.', 16.830000000000002), ('Gilberto Gil', 16.830000000000002)]\"}}\n",
            "{'generate_answer': {'answer': \"Based on the SQL query results, Steve Harris made the most money with a total revenue of $57.42. He is followed by U2 with $32.67 and Billy Corgan with $22.77.\\n\\nThe query calculates the total revenue for each composer by multiplying the unit price of tracks by the quantity sold (from the invoice_items table), and then groups and sorts them in descending order to show the top 10 earning composers.\\n\\nIt's worth noting that this data only includes composers who have been credited in the database (WHERE t.Composer IS NOT NULL), so there might be tracks with uncredited composers that aren't included in these results.\"}}\n"
          ]
        }
      ]
    },
    {
      "cell_type": "code",
      "source": [
        "from langgraph.checkpoint.memory import MemorySaver\n",
        "\n",
        "memory = MemorySaver();\n",
        "graph = graph_builder.compile(checkpointer=memory , interrupt_before= [\"execute_query\"] );\n",
        "\n",
        "config = {\"configurable\": {\"thread_id\": \"1\"}}"
      ],
      "metadata": {
        "id": "DFrI0HExpdME"
      },
      "execution_count": 62,
      "outputs": []
    },
    {
      "cell_type": "code",
      "source": [
        "display(Image(graph.get_graph().draw_mermaid_png()))"
      ],
      "metadata": {
        "colab": {
          "base_uri": "https://localhost:8080/",
          "height": 491
        },
        "id": "xUWu73SDxeXE",
        "outputId": "31aeeaf0-4bcc-48da-e83c-fff147da010f"
      },
      "execution_count": 63,
      "outputs": [
        {
          "output_type": "display_data",
          "data": {
            "image/png": "[encoded data removed]",
            "text/plain": [
              "<IPython.core.display.Image object>"
            ]
          },
          "metadata": {}
        }
      ]
    },
    {
      "cell_type": "code",
      "source": [
        "for step in graph.stream(\n",
        "    {\"question\": \"How many employees are there?\"},\n",
        "    config,\n",
        "    stream_mode=\"updates\",\n",
        "):\n",
        "    print(step)\n",
        "\n",
        "try:\n",
        "    user_approval = input(\"Do you want to go to execute query? (yes/no): \")\n",
        "except Exception:\n",
        "    user_approval = \"no\"\n",
        "\n",
        "if user_approval.lower() == \"yes\":\n",
        "    # If approved, continue the graph execution\n",
        "    for step in graph.stream(None, config, stream_mode=\"updates\"):\n",
        "        print(step)\n",
        "else:\n",
        "    print(\"Operation cancelled by user.\")"
      ],
      "metadata": {
        "colab": {
          "base_uri": "https://localhost:8080/"
        },
        "id": "GlP_PZ4dxhB1",
        "outputId": "6742dd02-717b-40fe-aca1-54eabf8c2fda"
      },
      "execution_count": 64,
      "outputs": [
        {
          "output_type": "stream",
          "name": "stdout",
          "text": [
            "{'write_query': {'query': 'SELECT COUNT(*) AS employee_count FROM employees;'}}\n",
            "{'__interrupt__': ()}\n",
            "Do you want to go to execute query? (yes/no): yes\n",
            "{'execute_query': {'result': '[(8,)]'}}\n",
            "{'generate_answer': {'answer': 'Based on the SQL query result, there are 8 employees in total.\\n\\nThe query counted all records (*) in the employees table using COUNT(), and returned a single value of 8, indicating that there are 8 employee records in the database.'}}\n"
          ]
        }
      ]
    },
    {
      "cell_type": "code",
      "source": [
        "from langchain_community.agent_toolkits import SQLDatabaseToolkit\n",
        "\n",
        "toolkit = SQLDatabaseToolkit( db=db , llm=llm)\n",
        "tools = toolkit;\n",
        "\n",
        "tools\n"
      ],
      "metadata": {
        "colab": {
          "base_uri": "https://localhost:8080/"
        },
        "id": "8wkCba3PyEzl",
        "outputId": "f1838067-5a3b-4b81-d775-9420ee5a981f"
      },
      "execution_count": 68,
      "outputs": [
        {
          "output_type": "execute_result",
          "data": {
            "text/plain": [
              "SQLDatabaseToolkit(db=<langchain_community.utilities.sql_database.SQLDatabase object at 0x7e4544223740>, llm=ChatAnthropic(model='claude-3-5-sonnet-latest', anthropic_api_url='https://api.anthropic.com', anthropic_api_key=SecretStr('**********'), model_kwargs={}))"
            ]
          },
          "metadata": {},
          "execution_count": 68
        }
      ]
    },
    {
      "cell_type": "code",
      "source": [
        "system_message = \"\"\"\n",
        "You are an agent designed to interact with a SQL database.\n",
        "Given an input question, create a syntactically correct {dialect} query to run,\n",
        "then look at the results of the query and return the answer. Unless the user\n",
        "specifies a specific number of examples they wish to obtain, always limit your\n",
        "query to at most {top_k} results.\n",
        "\n",
        "You can order the results by a relevant column to return the most interesting\n",
        "examples in the database. Never query for all the columns from a specific table,\n",
        "only ask for the relevant columns given the question.\n",
        "\n",
        "You MUST double check your query before executing it. If you get an error while\n",
        "executing a query, rewrite the query and try again.\n",
        "\n",
        "DO NOT make any DML statements (INSERT, UPDATE, DELETE, DROP etc.) to the\n",
        "database.\n",
        "\n",
        "To start you should ALWAYS look at the tables in the database to see what you\n",
        "can query. Do NOT skip this step.\n",
        "\n",
        "Then you should query the schema of the most relevant tables.\n",
        "\"\"\".format(\n",
        "    dialect=\"SQLite\",\n",
        "    top_k=5,\n",
        ")"
      ],
      "metadata": {
        "id": "Ygmqs9MS1UnU"
      },
      "execution_count": 69,
      "outputs": []
    },
    {
      "cell_type": "code",
      "source": [
        "from langchain_core.messages import HumanMessage\n",
        "from langgraph.prebuilt import create_react_agent\n",
        "\n",
        "agent_executor = create_react_agent(llm, tools.get_tools(), prompt=system_message)"
      ],
      "metadata": {
        "id": "Lc_CjT3U8rsP"
      },
      "execution_count": 73,
      "outputs": []
    },
    {
      "cell_type": "code",
      "source": [
        "question = \"Which country's customers spent the most?\"\n",
        "\n",
        "for step in agent_executor.stream(\n",
        "    {\"messages\": [{\"role\": \"user\", \"content\": question}]},\n",
        "    stream_mode=\"values\",\n",
        "):\n",
        "    step[\"messages\"][-1].pretty_print()"
      ],
      "metadata": {
        "colab": {
          "base_uri": "https://localhost:8080/"
        },
        "id": "xbfd_PhY9Ay0",
        "outputId": "dad4d2fd-34cf-4453-9244-ea950c346a2a"
      },
      "execution_count": 74,
      "outputs": [
        {
          "output_type": "stream",
          "name": "stdout",
          "text": [
            "================================\u001b[1m Human Message \u001b[0m=================================\n",
            "\n",
            "Which country's customers spent the most?\n",
            "==================================\u001b[1m Ai Message \u001b[0m==================================\n",
            "\n",
            "[{'text': \"I'll help you find out which country's customers spent the most. Let me break this down into steps:\\n\\n1. First, let's look at the available tables:\", 'type': 'text'}, {'id': 'toolu_014Jr3Zgy6dNMPQAsTHJJHtb', 'input': {'tool_input': ''}, 'name': 'sql_db_list_tables', 'type': 'tool_use'}]\n",
            "Tool Calls:\n",
            "  sql_db_list_tables (toolu_014Jr3Zgy6dNMPQAsTHJJHtb)\n",
            " Call ID: toolu_014Jr3Zgy6dNMPQAsTHJJHtb\n",
            "  Args:\n",
            "    tool_input:\n",
            "=================================\u001b[1m Tool Message \u001b[0m=================================\n",
            "Name: sql_db_list_tables\n",
            "\n",
            "albums, artists, customers, employees, genres, invoice_items, invoices, media_types, playlist_track, playlists, tracks\n",
            "==================================\u001b[1m Ai Message \u001b[0m==================================\n",
            "\n",
            "[{'text': \"2. We'll need to look at the schema for customers and invoices tables since we need to connect customer country information with their spending:\", 'type': 'text'}, {'id': 'toolu_01BNSnBh1HBVUfAeQwLWTaTJ', 'input': {'table_names': 'customers, invoices'}, 'name': 'sql_db_schema', 'type': 'tool_use'}]\n",
            "Tool Calls:\n",
            "  sql_db_schema (toolu_01BNSnBh1HBVUfAeQwLWTaTJ)\n",
            " Call ID: toolu_01BNSnBh1HBVUfAeQwLWTaTJ\n",
            "  Args:\n",
            "    table_names: customers, invoices\n",
            "=================================\u001b[1m Tool Message \u001b[0m=================================\n",
            "Name: sql_db_schema\n",
            "\n",
            "\n",
            "CREATE TABLE customers (\n",
            "\t\"CustomerId\" INTEGER NOT NULL, \n",
            "\t\"FirstName\" NVARCHAR(40) NOT NULL, \n",
            "\t\"LastName\" NVARCHAR(20) NOT NULL, \n",
            "\t\"Company\" NVARCHAR(80), \n",
            "\t\"Address\" NVARCHAR(70), \n",
            "\t\"City\" NVARCHAR(40), \n",
            "\t\"State\" NVARCHAR(40), \n",
            "\t\"Country\" NVARCHAR(40), \n",
            "\t\"PostalCode\" NVARCHAR(10), \n",
            "\t\"Phone\" NVARCHAR(24), \n",
            "\t\"Fax\" NVARCHAR(24), \n",
            "\t\"Email\" NVARCHAR(60) NOT NULL, \n",
            "\t\"SupportRepId\" INTEGER, \n",
            "\tPRIMARY KEY (\"CustomerId\"), \n",
            "\tFOREIGN KEY(\"SupportRepId\") REFERENCES employees (\"EmployeeId\")\n",
            ")\n",
            "\n",
            "/*\n",
            "3 rows from customers table:\n",
            "CustomerId\tFirstName\tLastName\tCompany\tAddress\tCity\tState\tCountry\tPostalCode\tPhone\tFax\tEmail\tSupportRepId\n",
            "1\tLuís\tGonçalves\tEmbraer - Empresa Brasileira de Aeronáutica S.A.\tAv. Brigadeiro Faria Lima, 2170\tSão José dos Campos\tSP\tBrazil\t12227-000\t+55 (12) 3923-5555\t+55 (12) 3923-5566\tluisg@embraer.com.br\t3\n",
            "2\tLeonie\tKöhler\tNone\tTheodor-Heuss-Straße 34\tStuttgart\tNone\tGermany\t70174\t+49 0711 2842222\tNone\tleonekohler@surfeu.de\t5\n",
            "3\tFrançois\tTremblay\tNone\t1498 rue Bélanger\tMontréal\tQC\tCanada\tH2G 1A7\t+1 (514) 721-4711\tNone\tftremblay@gmail.com\t3\n",
            "*/\n",
            "\n",
            "\n",
            "CREATE TABLE invoices (\n",
            "\t\"InvoiceId\" INTEGER NOT NULL, \n",
            "\t\"CustomerId\" INTEGER NOT NULL, \n",
            "\t\"InvoiceDate\" DATETIME NOT NULL, \n",
            "\t\"BillingAddress\" NVARCHAR(70), \n",
            "\t\"BillingCity\" NVARCHAR(40), \n",
            "\t\"BillingState\" NVARCHAR(40), \n",
            "\t\"BillingCountry\" NVARCHAR(40), \n",
            "\t\"BillingPostalCode\" NVARCHAR(10), \n",
            "\t\"Total\" NUMERIC(10, 2) NOT NULL, \n",
            "\tPRIMARY KEY (\"InvoiceId\"), \n",
            "\tFOREIGN KEY(\"CustomerId\") REFERENCES customers (\"CustomerId\")\n",
            ")\n",
            "\n",
            "/*\n",
            "3 rows from invoices table:\n",
            "InvoiceId\tCustomerId\tInvoiceDate\tBillingAddress\tBillingCity\tBillingState\tBillingCountry\tBillingPostalCode\tTotal\n",
            "1\t2\t2009-01-01 00:00:00\tTheodor-Heuss-Straße 34\tStuttgart\tNone\tGermany\t70174\t1.98\n",
            "2\t4\t2009-01-02 00:00:00\tUllevålsveien 14\tOslo\tNone\tNorway\t0171\t3.96\n",
            "3\t8\t2009-01-03 00:00:00\tGrétrystraat 63\tBrussels\tNone\tBelgium\t1000\t5.94\n",
            "*/\n",
            "==================================\u001b[1m Ai Message \u001b[0m==================================\n",
            "\n",
            "[{'text': \"Now I'll create a query to sum up the total spending by country and order it by the total amount spent in descending order. Let me check the query first:\", 'type': 'text'}, {'id': 'toolu_013AZyy5TqLFc9tDZxCADvWR', 'input': {'query': 'SELECT \\n    c.Country,\\n    ROUND(SUM(i.Total), 2) as TotalSpent\\nFROM customers c\\nJOIN invoices i ON c.CustomerId = i.CustomerId\\nGROUP BY c.Country\\nORDER BY TotalSpent DESC\\nLIMIT 5;'}, 'name': 'sql_db_query_checker', 'type': 'tool_use'}]\n",
            "Tool Calls:\n",
            "  sql_db_query_checker (toolu_013AZyy5TqLFc9tDZxCADvWR)\n",
            " Call ID: toolu_013AZyy5TqLFc9tDZxCADvWR\n",
            "  Args:\n",
            "    query: SELECT \n",
            "    c.Country,\n",
            "    ROUND(SUM(i.Total), 2) as TotalSpent\n",
            "FROM customers c\n",
            "JOIN invoices i ON c.CustomerId = i.CustomerId\n",
            "GROUP BY c.Country\n",
            "ORDER BY TotalSpent DESC\n",
            "LIMIT 5;\n",
            "=================================\u001b[1m Tool Message \u001b[0m=================================\n",
            "Name: sql_db_query_checker\n",
            "\n",
            "SELECT \n",
            "    c.Country,\n",
            "    ROUND(SUM(i.Total), 2) as TotalSpent\n",
            "FROM customers c\n",
            "JOIN invoices i ON c.CustomerId = i.CustomerId\n",
            "GROUP BY c.Country\n",
            "ORDER BY TotalSpent DESC\n",
            "LIMIT 5;\n",
            "==================================\u001b[1m Ai Message \u001b[0m==================================\n",
            "\n",
            "[{'text': \"Now let's execute the query:\", 'type': 'text'}, {'id': 'toolu_018WNFjrkjc2aWBjJ9TvYNfG', 'input': {'query': 'SELECT \\n    c.Country,\\n    ROUND(SUM(i.Total), 2) as TotalSpent\\nFROM customers c\\nJOIN invoices i ON c.CustomerId = i.CustomerId\\nGROUP BY c.Country\\nORDER BY TotalSpent DESC\\nLIMIT 5;'}, 'name': 'sql_db_query', 'type': 'tool_use'}]\n",
            "Tool Calls:\n",
            "  sql_db_query (toolu_018WNFjrkjc2aWBjJ9TvYNfG)\n",
            " Call ID: toolu_018WNFjrkjc2aWBjJ9TvYNfG\n",
            "  Args:\n",
            "    query: SELECT \n",
            "    c.Country,\n",
            "    ROUND(SUM(i.Total), 2) as TotalSpent\n",
            "FROM customers c\n",
            "JOIN invoices i ON c.CustomerId = i.CustomerId\n",
            "GROUP BY c.Country\n",
            "ORDER BY TotalSpent DESC\n",
            "LIMIT 5;\n",
            "=================================\u001b[1m Tool Message \u001b[0m=================================\n",
            "Name: sql_db_query\n",
            "\n",
            "[('USA', 523.06), ('Canada', 303.96), ('France', 195.1), ('Brazil', 190.1), ('Germany', 156.48)]\n",
            "==================================\u001b[1m Ai Message \u001b[0m==================================\n",
            "\n",
            "Based on the results, customers from the USA spent the most, with a total spending of $523.06, followed by Canada ($303.96), France ($195.10), Brazil ($190.10), and Germany ($156.48).\n"
          ]
        }
      ]
    },
    {
      "cell_type": "code",
      "source": [
        "import ast\n",
        "import re\n",
        "\n",
        "def query_as_list(db,query):\n",
        "  res = db.run(query)\n",
        "  res = [el for sub in ast.literal_eval(res) for el in sub if el]\n",
        "  res = [re.sub(r\"\\b\\d+\\b\", \"\", string).strip() for string in res]\n",
        "  return list(set(res))\n",
        "\n",
        "print(sorted(db.get_usable_table_names()))\n",
        "artists = query_as_list(db , \"SELECT Name from Artists\")\n",
        "albums = query_as_list(db , \"SELECT Title from Albums\")\n",
        "albums[:5]\n"
      ],
      "metadata": {
        "colab": {
          "base_uri": "https://localhost:8080/"
        },
        "id": "192RBeB59_HZ",
        "outputId": "30b1a786-664b-48d5-b489-a6c60026becb"
      },
      "execution_count": 78,
      "outputs": [
        {
          "output_type": "stream",
          "name": "stdout",
          "text": [
            "['albums', 'artists', 'customers', 'employees', 'genres', 'invoice_items', 'invoices', 'media_types', 'playlist_track', 'playlists', 'tracks']\n"
          ]
        },
        {
          "output_type": "execute_result",
          "data": {
            "text/plain": [
              "['Judas : B-Sides and Rarities',\n",
              " 'A Real Live One',\n",
              " 'Ace Of Spades',\n",
              " 'The Return Of The Space Cowboy',\n",
              " 'Vinícius De Moraes - Sem Limite']"
            ]
          },
          "metadata": {},
          "execution_count": 78
        }
      ]
    },
    {
      "cell_type": "code",
      "source": [
        "pip install -qU langchain-openai"
      ],
      "metadata": {
        "colab": {
          "base_uri": "https://localhost:8080/"
        },
        "id": "JctRzDXVOV21",
        "outputId": "1b979e15-2f78-4088-a19f-8a0873d8d752"
      },
      "execution_count": 79,
      "outputs": [
        {
          "output_type": "stream",
          "name": "stdout",
          "text": [
            "\u001b[?25l   \u001b[90m━━━━━━━━━━━━━━━━━━━━━━━━━━━━━━━━━━━━━━━━\u001b[0m \u001b[32m0.0/74.5 kB\u001b[0m \u001b[31m?\u001b[0m eta \u001b[36m-:--:--\u001b[0m\r\u001b[2K   \u001b[90m━━━━━━━━━━━━━━━━━━━━━━━━━━━━━━━━━━━━━━━━\u001b[0m \u001b[32m74.5/74.5 kB\u001b[0m \u001b[31m2.3 MB/s\u001b[0m eta \u001b[36m0:00:00\u001b[0m\n",
            "\u001b[?25h"
          ]
        }
      ]
    },
    {
      "cell_type": "code",
      "source": [
        "import getpass\n",
        "import os\n",
        "\n",
        "if not os.environ.get(\"OPENAI_API_KEY\"):\n",
        "  os.environ[\"OPENAI_API_KEY\"] = getpass.getpass(\"Enter API key for OpenAI: \")\n",
        "\n",
        "from langchain_openai import OpenAIEmbeddings\n",
        "\n",
        "embeddings = OpenAIEmbeddings(model=\"text-embedding-3-large\")"
      ],
      "metadata": {
        "colab": {
          "base_uri": "https://localhost:8080/"
        },
        "id": "ArdXiey5PIQ3",
        "outputId": "99a43593-4d5f-4902-9b45-6a8560b77828"
      },
      "execution_count": 80,
      "outputs": [
        {
          "name": "stdout",
          "output_type": "stream",
          "text": [
            "Enter API key for OpenAI: ··········\n"
          ]
        }
      ]
    },
    {
      "cell_type": "code",
      "source": [
        "pip install -qU langchain-core"
      ],
      "metadata": {
        "id": "E-NY6VzMQfeD"
      },
      "execution_count": 81,
      "outputs": []
    },
    {
      "cell_type": "code",
      "source": [
        "from langchain_core.vectorstores import InMemoryVectorStore\n",
        "\n",
        "vector_store = InMemoryVectorStore(embeddings)"
      ],
      "metadata": {
        "id": "GUnChl4sQnSF"
      },
      "execution_count": 82,
      "outputs": []
    },
    {
      "cell_type": "code",
      "source": [
        "from langchain.agents.agent_toolkits import create_retriever_tool\n",
        "\n",
        "_ = vector_store.add_texts(artists + albums)\n",
        "retriever = vector_store.as_retriever(search_kwargs={\"k\": 5})\n",
        "description = (\n",
        "    \"Use to look up values to filter on. Input is an approximate spelling \"\n",
        "    \"of the proper noun, output is valid proper nouns. Use the noun most \"\n",
        "    \"similar to the search.\"\n",
        ")\n",
        "retriever_tool = create_retriever_tool(\n",
        "    retriever,\n",
        "    name=\"search_proper_nouns\",\n",
        "    description=description,\n",
        ")"
      ],
      "metadata": {
        "id": "OyB4gf2yQujH"
      },
      "execution_count": 83,
      "outputs": []
    },
    {
      "cell_type": "code",
      "source": [
        "print(retriever_tool.invoke(\"Alice Chains\"))"
      ],
      "metadata": {
        "colab": {
          "base_uri": "https://localhost:8080/"
        },
        "id": "fn9Bob9UQ178",
        "outputId": "4082d3aa-e20e-4c6f-c516-2120f3278cd8"
      },
      "execution_count": 84,
      "outputs": [
        {
          "output_type": "stream",
          "name": "stdout",
          "text": [
            "Alice In Chains\n",
            "\n",
            "Alanis Morissette\n",
            "\n",
            "Jagged Little Pill\n",
            "\n",
            "Angel Dust\n",
            "\n",
            "Amy Winehouse\n"
          ]
        }
      ]
    },
    {
      "cell_type": "code",
      "source": [
        "suffix_prompt = (\n",
        "    \"If you need to filter proper nouns like Name , you must ALWAYS lookup\"\n",
        "    \"then filter the value using 'search_proper_nouns' tool ! Do not try to  \"\n",
        "    \" guess the proper name - use this function to findsimilar names\"\n",
        ")\n",
        "system = f\"{system_message}\\n {suffix_prompt}\"\n",
        "# Create a new list of tools including the ones from the toolkit and the retriever tool\n",
        "combined_tools = tools.get_tools() + [retriever_tool]\n",
        "agent = create_react_agent(llm, combined_tools, prompt=system)"
      ],
      "metadata": {
        "id": "HDyrkUsXQ4aL"
      },
      "execution_count": 86,
      "outputs": []
    },
    {
      "cell_type": "code",
      "source": [
        "question = \"How many albums does alis in chain have?\"\n",
        "\n",
        "for step in agent.stream(\n",
        "    {\"messages\": [{\"role\": \"user\", \"content\": question}]},\n",
        "    stream_mode=\"values\",\n",
        "):\n",
        "    step[\"messages\"][-1].pretty_print()"
      ],
      "metadata": {
        "colab": {
          "base_uri": "https://localhost:8080/"
        },
        "id": "DUqx2W7fSDsN",
        "outputId": "63b52d15-fa00-423e-f413-2a6ad5bc60b6"
      },
      "execution_count": 87,
      "outputs": [
        {
          "output_type": "stream",
          "name": "stdout",
          "text": [
            "================================\u001b[1m Human Message \u001b[0m=================================\n",
            "\n",
            "How many albums does alis in chain have?\n",
            "==================================\u001b[1m Ai Message \u001b[0m==================================\n",
            "\n",
            "[{'text': \"I'll help you find out how many albums Alice In Chains has. First, let me check the available tables and then look up the proper name using the search tool.\", 'type': 'text'}, {'id': 'toolu_0116BPra4Dmn6FRwRtQbeQcb', 'input': {'tool_input': ''}, 'name': 'sql_db_list_tables', 'type': 'tool_use'}]\n",
            "Tool Calls:\n",
            "  sql_db_list_tables (toolu_0116BPra4Dmn6FRwRtQbeQcb)\n",
            " Call ID: toolu_0116BPra4Dmn6FRwRtQbeQcb\n",
            "  Args:\n",
            "    tool_input:\n",
            "=================================\u001b[1m Tool Message \u001b[0m=================================\n",
            "Name: sql_db_list_tables\n",
            "\n",
            "albums, artists, customers, employees, genres, invoice_items, invoices, media_types, playlist_track, playlists, tracks\n",
            "==================================\u001b[1m Ai Message \u001b[0m==================================\n",
            "\n",
            "[{'text': 'Let me search for the proper name \"Alice In Chains\":', 'type': 'text'}, {'id': 'toolu_01S1AhyZ2NwYEHeeZ3PuhWqD', 'input': {'query': 'alis in chain'}, 'name': 'search_proper_nouns', 'type': 'tool_use'}]\n",
            "Tool Calls:\n",
            "  search_proper_nouns (toolu_01S1AhyZ2NwYEHeeZ3PuhWqD)\n",
            " Call ID: toolu_01S1AhyZ2NwYEHeeZ3PuhWqD\n",
            "  Args:\n",
            "    query: alis in chain\n",
            "=================================\u001b[1m Tool Message \u001b[0m=================================\n",
            "Name: search_proper_nouns\n",
            "\n",
            "Alice In Chains\n",
            "\n",
            "Alanis Morissette\n",
            "\n",
            "Jagged Little Pill\n",
            "\n",
            "Up An' Atom\n",
            "\n",
            "A-Sides\n",
            "==================================\u001b[1m Ai Message \u001b[0m==================================\n",
            "\n",
            "[{'text': \"Now I'll check the schema of the relevant tables:\", 'type': 'text'}, {'id': 'toolu_01C3BgGAnzcG3pwn3AmisnZA', 'input': {'table_names': 'artists, albums'}, 'name': 'sql_db_schema', 'type': 'tool_use'}]\n",
            "Tool Calls:\n",
            "  sql_db_schema (toolu_01C3BgGAnzcG3pwn3AmisnZA)\n",
            " Call ID: toolu_01C3BgGAnzcG3pwn3AmisnZA\n",
            "  Args:\n",
            "    table_names: artists, albums\n",
            "=================================\u001b[1m Tool Message \u001b[0m=================================\n",
            "Name: sql_db_schema\n",
            "\n",
            "\n",
            "CREATE TABLE albums (\n",
            "\t\"AlbumId\" INTEGER NOT NULL, \n",
            "\t\"Title\" NVARCHAR(160) NOT NULL, \n",
            "\t\"ArtistId\" INTEGER NOT NULL, \n",
            "\tPRIMARY KEY (\"AlbumId\"), \n",
            "\tFOREIGN KEY(\"ArtistId\") REFERENCES artists (\"ArtistId\")\n",
            ")\n",
            "\n",
            "/*\n",
            "3 rows from albums table:\n",
            "AlbumId\tTitle\tArtistId\n",
            "1\tFor Those About To Rock We Salute You\t1\n",
            "2\tBalls to the Wall\t2\n",
            "3\tRestless and Wild\t2\n",
            "*/\n",
            "\n",
            "\n",
            "CREATE TABLE artists (\n",
            "\t\"ArtistId\" INTEGER NOT NULL, \n",
            "\t\"Name\" NVARCHAR(120), \n",
            "\tPRIMARY KEY (\"ArtistId\")\n",
            ")\n",
            "\n",
            "/*\n",
            "3 rows from artists table:\n",
            "ArtistId\tName\n",
            "1\tAC/DC\n",
            "2\tAccept\n",
            "3\tAerosmith\n",
            "*/\n",
            "==================================\u001b[1m Ai Message \u001b[0m==================================\n",
            "\n",
            "[{'text': \"Now I'll create a query to count the number of albums by Alice In Chains. Let me check the query first:\", 'type': 'text'}, {'id': 'toolu_01Cgzaj6ZatFoSwRWVQtAtDy', 'input': {'query': \"SELECT COUNT(a.AlbumId) as album_count\\nFROM albums a\\nJOIN artists art ON a.ArtistId = art.ArtistId\\nWHERE art.Name = 'Alice In Chains'\"}, 'name': 'sql_db_query_checker', 'type': 'tool_use'}]\n",
            "Tool Calls:\n",
            "  sql_db_query_checker (toolu_01Cgzaj6ZatFoSwRWVQtAtDy)\n",
            " Call ID: toolu_01Cgzaj6ZatFoSwRWVQtAtDy\n",
            "  Args:\n",
            "    query: SELECT COUNT(a.AlbumId) as album_count\n",
            "FROM albums a\n",
            "JOIN artists art ON a.ArtistId = art.ArtistId\n",
            "WHERE art.Name = 'Alice In Chains'\n",
            "=================================\u001b[1m Tool Message \u001b[0m=================================\n",
            "Name: sql_db_query_checker\n",
            "\n",
            "SELECT COUNT(a.AlbumId) as album_count\n",
            "FROM albums a\n",
            "JOIN artists art ON a.ArtistId = art.ArtistId\n",
            "WHERE art.Name = 'Alice In Chains'\n",
            "==================================\u001b[1m Ai Message \u001b[0m==================================\n",
            "\n",
            "[{'text': \"Now let's execute the query:\", 'type': 'text'}, {'id': 'toolu_01NFW84yDro1KNPj8YNst2CD', 'input': {'query': \"SELECT COUNT(a.AlbumId) as album_count\\nFROM albums a\\nJOIN artists art ON a.ArtistId = art.ArtistId\\nWHERE art.Name = 'Alice In Chains'\"}, 'name': 'sql_db_query', 'type': 'tool_use'}]\n",
            "Tool Calls:\n",
            "  sql_db_query (toolu_01NFW84yDro1KNPj8YNst2CD)\n",
            " Call ID: toolu_01NFW84yDro1KNPj8YNst2CD\n",
            "  Args:\n",
            "    query: SELECT COUNT(a.AlbumId) as album_count\n",
            "FROM albums a\n",
            "JOIN artists art ON a.ArtistId = art.ArtistId\n",
            "WHERE art.Name = 'Alice In Chains'\n",
            "=================================\u001b[1m Tool Message \u001b[0m=================================\n",
            "Name: sql_db_query\n",
            "\n",
            "[(1,)]\n",
            "==================================\u001b[1m Ai Message \u001b[0m==================================\n",
            "\n",
            "[{'text': 'Alice In Chains has 1 album in the database.\\n\\nLet me show you which album it is:', 'type': 'text'}, {'id': 'toolu_01HhZ6kbER6GhPdzvjpLBUE6', 'input': {'query': \"SELECT a.Title\\nFROM albums a\\nJOIN artists art ON a.ArtistId = art.ArtistId\\nWHERE art.Name = 'Alice In Chains'\"}, 'name': 'sql_db_query_checker', 'type': 'tool_use'}]\n",
            "Tool Calls:\n",
            "  sql_db_query_checker (toolu_01HhZ6kbER6GhPdzvjpLBUE6)\n",
            " Call ID: toolu_01HhZ6kbER6GhPdzvjpLBUE6\n",
            "  Args:\n",
            "    query: SELECT a.Title\n",
            "FROM albums a\n",
            "JOIN artists art ON a.ArtistId = art.ArtistId\n",
            "WHERE art.Name = 'Alice In Chains'\n",
            "=================================\u001b[1m Tool Message \u001b[0m=================================\n",
            "Name: sql_db_query_checker\n",
            "\n",
            "SELECT a.Title\n",
            "FROM albums a\n",
            "JOIN artists art ON a.ArtistId = art.ArtistId\n",
            "WHERE art.Name = 'Alice In Chains'\n",
            "==================================\u001b[1m Ai Message \u001b[0m==================================\n",
            "\n",
            "[{'id': 'toolu_01ERUMWBf2cMWVD4nKanv7pQ', 'input': {'query': \"SELECT a.Title\\nFROM albums a\\nJOIN artists art ON a.ArtistId = art.ArtistId\\nWHERE art.Name = 'Alice In Chains'\"}, 'name': 'sql_db_query', 'type': 'tool_use'}]\n",
            "Tool Calls:\n",
            "  sql_db_query (toolu_01ERUMWBf2cMWVD4nKanv7pQ)\n",
            " Call ID: toolu_01ERUMWBf2cMWVD4nKanv7pQ\n",
            "  Args:\n",
            "    query: SELECT a.Title\n",
            "FROM albums a\n",
            "JOIN artists art ON a.ArtistId = art.ArtistId\n",
            "WHERE art.Name = 'Alice In Chains'\n",
            "=================================\u001b[1m Tool Message \u001b[0m=================================\n",
            "Name: sql_db_query\n",
            "\n",
            "[('Facelift',)]\n",
            "==================================\u001b[1m Ai Message \u001b[0m==================================\n",
            "\n",
            "The album in the database is \"Facelift\" by Alice In Chains.\n"
          ]
        }
      ]
    },
    {
      "cell_type": "code",
      "source": [],
      "metadata": {
        "id": "hJWk-IkyTmgB"
      },
      "execution_count": null,
      "outputs": []
    }
  ]
}